{
  "nbformat": 4,
  "nbformat_minor": 0,
  "metadata": {
    "colab": {
      "provenance": [],
      "gpuType": "T4"
    },
    "kernelspec": {
      "name": "python3",
      "display_name": "Python 3"
    },
    "accelerator": "GPU"
  },
  "cells": [
    {
      "cell_type": "markdown",
      "source": [
        "# Required"
      ],
      "metadata": {
        "id": "D0DO5wPuAgbN"
      }
    },
    {
      "cell_type": "code",
      "source": [
        "import os\n",
        "import pandas as pd\n",
        "import zipfile\n",
        "import numpy as np\n",
        "from torchvision import transforms\n",
        "from torchvision.transforms import functional as F\n",
        "from PIL import Image\n",
        "import shutil\n",
        "from sklearn.model_selection import train_test_split\n",
        "\n",
        "import torch.optim as optim\n",
        "from torch.optim import SGD\n",
        "from tqdm import tqdm\n",
        "import torchvision.transforms as T\n",
        "\n",
        "import torchvision\n",
        "import torch\n",
        "from torch.utils.data import Dataset, DataLoader\n",
        "from torchvision.datasets import CocoDetection\n",
        "from torchvision.models.detection import fasterrcnn_resnet50_fpn\n",
        "from torchvision.models.detection.faster_rcnn import FastRCNNPredictor\n",
        "from torchvision.ops import box_iou"
      ],
      "metadata": {
        "id": "mE0Li8jFAfd3"
      },
      "execution_count": 1,
      "outputs": []
    },
    {
      "cell_type": "code",
      "source": [
        "from google.colab import drive\n",
        "drive.mount('/content/gdrive')"
      ],
      "metadata": {
        "id": "V_1AQz4WAuA2",
        "outputId": "6f6575c9-5d2d-4941-9a15-e0290c6a81c0",
        "colab": {
          "base_uri": "https://localhost:8080/"
        }
      },
      "execution_count": 2,
      "outputs": [
        {
          "output_type": "stream",
          "name": "stdout",
          "text": [
            "Mounted at /content/gdrive\n"
          ]
        }
      ]
    },
    {
      "cell_type": "code",
      "source": [
        "train_dir = \"/content/gdrive/MyDrive/ColabNotebooks/TrainIJCNN2013.zip\"\n",
        "test_dir = \"/content/gdrive/MyDrive/ColabNotebooks/TestIJCNN2013.zip\"\n",
        "annotations_file = \"/content/gdrive/MyDrive/ColabNotebooks/gt.txt\""
      ],
      "metadata": {
        "id": "3NaZob_JAw1A"
      },
      "execution_count": null,
      "outputs": []
    },
    {
      "cell_type": "code",
      "source": [
        "local_zip = 'TrainIJCNN2013.zip'\n",
        "zip_ref = zipfile.ZipFile(train_dir, 'r')\n",
        "zip_ref.extractall('/content')\n",
        "zip_ref.close()\n",
        "\n",
        "local_zip = 'TestIJCNN2013.zip'\n",
        "zip_ref = zipfile.ZipFile(test_dir, 'r')\n",
        "zip_ref.extractall('/content')\n",
        "zip_ref.close()"
      ],
      "metadata": {
        "id": "XCGYWKtdA1Ra"
      },
      "execution_count": null,
      "outputs": []
    },
    {
      "cell_type": "code",
      "source": [
        "train_dir = 'TrainIJCNN2013'\n",
        "test_dir = 'TestIJCNN2013Download'\n",
        "shutil.copy(annotations_file, train_dir)\n",
        "annotations_file = \"/content/TrainIJCNN2013/gt.txt\""
      ],
      "metadata": {
        "id": "7eTVTyqVxIv2"
      },
      "execution_count": null,
      "outputs": []
    },
    {
      "cell_type": "code",
      "source": [
        "# Έλεγχος περιεχομένων του αρχείου\n",
        "with open(annotations_file, 'r') as file:\n",
        "    for i in range(5):\n",
        "        print(file.readline())\n",
        "\n",
        "# Φόρτωση του αρχείου με το σωστό διαχωριστικό\n",
        "annotations = pd.read_csv(annotations_file, delimiter=',', header=0)\n",
        "\n",
        "# Εμφάνιση των πρώτων γραμμών και της δομής του DataFrame\n",
        "print(annotations.head())\n",
        "print(annotations.columns)\n",
        "print(annotations.shape)"
      ],
      "metadata": {
        "colab": {
          "base_uri": "https://localhost:8080/"
        },
        "id": "b8FJo5mUvprF",
        "outputId": "2b233e19-0bd7-46d2-f4f8-6830fb0bad30"
      },
      "execution_count": null,
      "outputs": [
        {
          "output_type": "stream",
          "name": "stdout",
          "text": [
            "filename,x1,y1,x2,y2,class\n",
            "\n",
            "/content/TrainIJCNN2013/00000.ppm,774,411,815,446,11\n",
            "\n",
            "/content/TrainIJCNN2013/00001.ppm,983,388,1024,432,40\n",
            "\n",
            "/content/TrainIJCNN2013/00001.ppm,386,494,442,552,38\n",
            "\n",
            "/content/TrainIJCNN2013/00001.ppm,973,335,1031,390,13\n",
            "\n",
            "                            filename   x1   y1    x2   y2  class\n",
            "0  /content/TrainIJCNN2013/00000.ppm  774  411   815  446     11\n",
            "1  /content/TrainIJCNN2013/00001.ppm  983  388  1024  432     40\n",
            "2  /content/TrainIJCNN2013/00001.ppm  386  494   442  552     38\n",
            "3  /content/TrainIJCNN2013/00001.ppm  973  335  1031  390     13\n",
            "4  /content/TrainIJCNN2013/00002.ppm  892  476  1006  592     39\n",
            "Index(['filename', 'x1', 'y1', 'x2', 'y2', 'class'], dtype='object')\n",
            "(852, 6)\n"
          ]
        }
      ]
    },
    {
      "cell_type": "code",
      "source": [
        "# Βεβαιώνουμε ότι οι στήλες είναι αριθμητικές\n",
        "train_annotations['x1'] = pd.to_numeric(train_annotations['x1'], errors='coerce')\n",
        "train_annotations['y1'] = pd.to_numeric(train_annotations['y1'], errors='coerce')\n",
        "train_annotations['x2'] = pd.to_numeric(train_annotations['x2'], errors='coerce')\n",
        "train_annotations['y2'] = pd.to_numeric(train_annotations['y2'], errors='coerce')\n",
        "\n",
        "# Αφαιρούμε τυχόν γραμμές με μη αριθμητικά δεδομένα ή κενές τιμές\n",
        "train_annotations = train_annotations.dropna()\n",
        "\n",
        "# Επαληθεύουμε τη μορφή των δεδομένων\n",
        "print(train_annotations.dtypes)\n",
        "print(train_annotations.head())\n"
      ],
      "metadata": {
        "colab": {
          "base_uri": "https://localhost:8080/"
        },
        "id": "77hFz2Rb_7Jd",
        "outputId": "c710a85f-f44e-45e5-8298-4151fe3f9801"
      },
      "execution_count": null,
      "outputs": [
        {
          "output_type": "stream",
          "name": "stdout",
          "text": [
            "filename    object\n",
            "x1           int64\n",
            "y1           int64\n",
            "x2           int64\n",
            "y2           int64\n",
            "class        int64\n",
            "dtype: object\n",
            "                            filename   x1   y1    x2   y2  class\n",
            "0  /content/TrainIJCNN2013/00000.ppm  774  411   815  446     11\n",
            "1  /content/TrainIJCNN2013/00001.ppm  983  388  1024  432     40\n",
            "2  /content/TrainIJCNN2013/00001.ppm  386  494   442  552     38\n",
            "3  /content/TrainIJCNN2013/00001.ppm  973  335  1031  390     13\n",
            "4  /content/TrainIJCNN2013/00002.ppm  892  476  1006  592     39\n"
          ]
        }
      ]
    },
    {
      "cell_type": "code",
      "source": [
        "# Διάσπαση σε train και test με βάση τα υπάρχοντα directories\n",
        "train_annotations = annotations  # Χρησιμοποιούμε τα δεδομένα εκπαίδευσης ως έχουν\n",
        "test_annotations_file = os.path.join(test_dir, annotations_file)\n",
        "test_annotations = pd.read_csv(annotations_file, delimiter=',', header=0)\n",
        "test_annotations.columns = ['filename', 'xmin', 'ymin', 'xmax', 'ymax', 'class_id']\n",
        "\n",
        "# Προεπισκόπηση δεδομένων\n",
        "print(f\"Train annotations: {len(train_annotations)}\")\n",
        "print(f\"Test annotations: {len(test_annotations)}\")"
      ],
      "metadata": {
        "colab": {
          "base_uri": "https://localhost:8080/"
        },
        "id": "WD9i1PjSu9vD",
        "outputId": "c16e47ec-e200-4971-dc7a-5f5e531bc314"
      },
      "execution_count": null,
      "outputs": [
        {
          "output_type": "stream",
          "name": "stdout",
          "text": [
            "Train annotations: 852\n",
            "Test annotations: 852\n"
          ]
        }
      ]
    },
    {
      "cell_type": "code",
      "source": [
        "class GTSDBDataset(Dataset):\n",
        "    def __init__(self, annotations_file, img_dir, transform=None):\n",
        "        self.annotations = annotations_file\n",
        "        self.img_dir = img_dir\n",
        "        self.transform = transform # Προαιρετικοί μετασχηματισμοί (π.χ. κανονικοποίηση)\n",
        "\n",
        "    def __len__(self):\n",
        "        return len(self.annotations)\n",
        "\n",
        "    def __getitem__(self, idx):\n",
        "        # Φόρτωση εικόνας\n",
        "        img_path = os.path.join(self.img_dir, self.annotations.iloc[idx, 0])\n",
        "        image = Image.open(img_path).convert(\"RGB\")\n",
        "\n",
        "        # Φόρτωση bounding box και ετικέτας\n",
        "        boxes = self.annotations.iloc[idx, 1:5].values.astype(float)  # Μετατροπή σε float\n",
        "        boxes = torch.tensor(boxes, dtype=torch.float32).unsqueeze(0)\n",
        "        label = torch.tensor([self.annotations.iloc[idx, 5]], dtype=torch.int64)\n",
        "\n",
        "        target = {\"boxes\": boxes, \"labels\": label}\n",
        "\n",
        "        # Εφαρμογή μετασχηματισμών\n",
        "        if self.transform:\n",
        "            image = self.transform(image)\n",
        "\n",
        "        return image, target"
      ],
      "metadata": {
        "id": "cwq0K0ah32en"
      },
      "execution_count": null,
      "outputs": []
    },
    {
      "cell_type": "code",
      "source": [
        "# Φόρτωση GTSDB Dataset\n",
        "\n",
        "transform = T.Compose([\n",
        "    T.ToTensor(), # Μετατροπή εικόνας σε Tensor\n",
        "    T.Resize((300, 300)),\n",
        "    T.Normalize(mean=[0.485, 0.456, 0.406], std=[0.229, 0.224, 0.225]) # Κανονικοποίηση\n",
        "])\n",
        "\n",
        "train_dataset = GTSDBDataset(train_annotations, train_dir, transform)\n",
        "test_dataset = GTSDBDataset(test_annotations, test_dir, transform)\n",
        "\n",
        "train_loader = DataLoader(train_dataset, batch_size=4, shuffle=True, collate_fn=lambda x: tuple(zip(*x)))\n",
        "test_loader = DataLoader(test_dataset, batch_size=4, shuffle=False, collate_fn=lambda x: tuple(zip(*x)))"
      ],
      "metadata": {
        "id": "MIl-q9kT392f"
      },
      "execution_count": null,
      "outputs": []
    },
    {
      "cell_type": "code",
      "source": [
        "# Φόρτωση COCO Dataset\n",
        "\n",
        "coco_train_dataset = CocoDetection(root=train_dir, annFile=train_annotations, transform=transform)\n",
        "\n",
        "coco_train_loader = DataLoader(coco_train_dataset, batch_size=4, shuffle=True, collate_fn=lambda x: tuple(zip(*x)))\n",
        "\n",
        "print(f\"COCO Dataset Loaded: {len(coco_train_dataset)} images\")"
      ],
      "metadata": {
        "id": "IWnNyucI9Qb5"
      },
      "execution_count": null,
      "outputs": []
    },
    {
      "cell_type": "markdown",
      "source": [
        "# Faster-RCNN"
      ],
      "metadata": {
        "id": "UNZ776Z9469A"
      }
    },
    {
      "cell_type": "code",
      "source": [
        "# Φόρτωση του Faster R-CNN με βάση MobileNet V3\n",
        "model = torchvision.models.detection.fasterrcnn_resnet50_fpn(pretrained=True)\n",
        "\n",
        "# Προσαρμογή του αριθμού κατηγοριών\n",
        "num_classes = 44  # 43 κατηγορίες + background\n",
        "in_features = model.roi_heads.box_predictor.cls_score.in_features  # Είσοδος του τελευταίου επιπέδου\n",
        "model.roi_heads.box_predictor = FastRCNNPredictor(in_features, num_classes)\n",
        "\n",
        "# Μεταφορά του μοντέλου στη GPU (αν υπάρχει)\n",
        "device = torch.device('cuda') if torch.cuda.is_available() else torch.device('cpu')\n",
        "model.to(device)\n",
        "\n",
        "print(\"Το Faster-RCNN προσαρμόστηκε για 44 κατηγορίες και μεταφέρθηκε στη συσκευή:\", device)\n"
      ],
      "metadata": {
        "colab": {
          "base_uri": "https://localhost:8080/"
        },
        "id": "YVl17sWV49ea",
        "outputId": "a7cc8f38-f293-4902-ffad-446b506b2671"
      },
      "execution_count": null,
      "outputs": [
        {
          "output_type": "stream",
          "name": "stderr",
          "text": [
            "/usr/local/lib/python3.11/dist-packages/torchvision/models/_utils.py:208: UserWarning: The parameter 'pretrained' is deprecated since 0.13 and may be removed in the future, please use 'weights' instead.\n",
            "  warnings.warn(\n",
            "/usr/local/lib/python3.11/dist-packages/torchvision/models/_utils.py:223: UserWarning: Arguments other than a weight enum or `None` for 'weights' are deprecated since 0.13 and may be removed in the future. The current behavior is equivalent to passing `weights=FasterRCNN_ResNet50_FPN_Weights.COCO_V1`. You can also use `weights=FasterRCNN_ResNet50_FPN_Weights.DEFAULT` to get the most up-to-date weights.\n",
            "  warnings.warn(msg)\n"
          ]
        },
        {
          "output_type": "stream",
          "name": "stdout",
          "text": [
            "Το Faster-RCNN προσαρμόστηκε για 44 κατηγορίες και μεταφέρθηκε στη συσκευή: cuda\n"
          ]
        }
      ]
    },
    {
      "cell_type": "code",
      "source": [
        "# Ορισμός υπερπαραμέτρων\n",
        "num_epochs = 10\n",
        "learning_rate = 0.005\n",
        "momentum = 0.9\n",
        "weight_decay = 0.0005\n",
        "\n",
        "# Ορισμός του optimizer\n",
        "optimizer = SGD(model.parameters(), lr=learning_rate, momentum=momentum, weight_decay=weight_decay)\n",
        "\n",
        "# Training Loop\n",
        "for epoch in range(num_epochs):\n",
        "    model.train()  # Το μοντέλο σε training mode\n",
        "    epoch_loss = 0  # Παρακολούθηση της απώλειας\n",
        "    pbar = tqdm(train_loader, desc=f\"Epoch {epoch+1}/{num_epochs}\")  # Γραμμή προόδου\n",
        "\n",
        "    for images, targets in pbar:\n",
        "        # Μεταφορά των δεδομένων στη συσκευή (GPU ή CPU)\n",
        "        images = [image.to(device) for image in images]\n",
        "        targets = [{k: v.to(device) for k, v in t.items()} for t in targets]\n",
        "\n",
        "        # Μηδενισμός των gradients\n",
        "        optimizer.zero_grad()\n",
        "\n",
        "        # Υπολογισμός της απώλειας (loss)\n",
        "        loss_dict = model(images, targets)\n",
        "        losses = sum(loss for loss in loss_dict.values())\n",
        "        epoch_loss += losses.item()\n",
        "\n",
        "        # Οπισθοδιάδοση (backpropagation)\n",
        "        losses.backward()\n",
        "\n",
        "        # Ενημέρωση των βαρών\n",
        "        optimizer.step()\n",
        "\n",
        "        # Ενημέρωση της γραμμής προόδου\n",
        "        pbar.set_postfix(loss=losses.item())\n",
        "\n",
        "    print(f\"Epoch {epoch+1} Loss: {epoch_loss:.4f}\")\n",
        "\n",
        "# Αποθήκευση του εκπαιδευμένου μοντέλου\n",
        "torch.save(model.state_dict(), \"faster_rcnn_gtsdb.pth\")\n",
        "print(\"Το μοντέλο αποθηκεύτηκε ως faster_rcnn_gtsdb.pth\")"
      ],
      "metadata": {
        "colab": {
          "base_uri": "https://localhost:8080/"
        },
        "id": "jAhXdW3I-yXm",
        "outputId": "1aa504e8-d57a-4fc4-f5af-2957ce6b6bee"
      },
      "execution_count": null,
      "outputs": [
        {
          "metadata": {
            "tags": null
          },
          "name": "stderr",
          "output_type": "stream",
          "text": [
            "Epoch 1/10: 100%|██████████| 213/213 [02:39<00:00,  1.33it/s, loss=nan]\n"
          ]
        },
        {
          "metadata": {
            "tags": null
          },
          "name": "stdout",
          "output_type": "stream",
          "text": [
            "Epoch 1 Loss: nan\n"
          ]
        },
        {
          "metadata": {
            "tags": null
          },
          "name": "stderr",
          "output_type": "stream",
          "text": [
            "Epoch 2/10: 100%|██████████| 213/213 [02:32<00:00,  1.40it/s, loss=nan]\n"
          ]
        },
        {
          "metadata": {
            "tags": null
          },
          "name": "stdout",
          "output_type": "stream",
          "text": [
            "Epoch 2 Loss: nan\n"
          ]
        },
        {
          "metadata": {
            "tags": null
          },
          "name": "stderr",
          "output_type": "stream",
          "text": [
            "Epoch 3/10: 100%|██████████| 213/213 [02:32<00:00,  1.40it/s, loss=nan]\n"
          ]
        },
        {
          "metadata": {
            "tags": null
          },
          "name": "stdout",
          "output_type": "stream",
          "text": [
            "Epoch 3 Loss: nan\n"
          ]
        },
        {
          "metadata": {
            "tags": null
          },
          "name": "stderr",
          "output_type": "stream",
          "text": [
            "Epoch 4/10: 100%|██████████| 213/213 [02:31<00:00,  1.40it/s, loss=nan]\n"
          ]
        },
        {
          "metadata": {
            "tags": null
          },
          "name": "stdout",
          "output_type": "stream",
          "text": [
            "Epoch 4 Loss: nan\n"
          ]
        },
        {
          "metadata": {
            "tags": null
          },
          "name": "stderr",
          "output_type": "stream",
          "text": [
            "Epoch 5/10: 100%|██████████| 213/213 [02:33<00:00,  1.39it/s, loss=nan]\n"
          ]
        },
        {
          "metadata": {
            "tags": null
          },
          "name": "stdout",
          "output_type": "stream",
          "text": [
            "Epoch 5 Loss: nan\n"
          ]
        },
        {
          "metadata": {
            "tags": null
          },
          "name": "stderr",
          "output_type": "stream",
          "text": [
            "Epoch 6/10: 100%|██████████| 213/213 [02:31<00:00,  1.41it/s, loss=nan]\n"
          ]
        },
        {
          "metadata": {
            "tags": null
          },
          "name": "stdout",
          "output_type": "stream",
          "text": [
            "Epoch 6 Loss: nan\n"
          ]
        },
        {
          "metadata": {
            "tags": null
          },
          "name": "stderr",
          "output_type": "stream",
          "text": [
            "Epoch 7/10: 100%|██████████| 213/213 [02:32<00:00,  1.40it/s, loss=nan]\n"
          ]
        },
        {
          "metadata": {
            "tags": null
          },
          "name": "stdout",
          "output_type": "stream",
          "text": [
            "Epoch 7 Loss: nan\n"
          ]
        },
        {
          "metadata": {
            "tags": null
          },
          "name": "stderr",
          "output_type": "stream",
          "text": [
            "Epoch 8/10: 100%|██████████| 213/213 [02:33<00:00,  1.39it/s, loss=nan]\n"
          ]
        },
        {
          "metadata": {
            "tags": null
          },
          "name": "stdout",
          "output_type": "stream",
          "text": [
            "Epoch 8 Loss: nan\n"
          ]
        },
        {
          "metadata": {
            "tags": null
          },
          "name": "stderr",
          "output_type": "stream",
          "text": [
            "Epoch 9/10: 100%|██████████| 213/213 [02:31<00:00,  1.40it/s, loss=nan]\n"
          ]
        },
        {
          "metadata": {
            "tags": null
          },
          "name": "stdout",
          "output_type": "stream",
          "text": [
            "Epoch 9 Loss: nan\n"
          ]
        },
        {
          "output_type": "stream",
          "name": "stderr",
          "text": [
            "Epoch 10/10: 100%|██████████| 213/213 [02:32<00:00,  1.40it/s, loss=nan]\n"
          ]
        },
        {
          "output_type": "stream",
          "name": "stdout",
          "text": [
            "Epoch 10 Loss: nan\n",
            "Το μοντέλο αποθηκεύτηκε ως faster_rcnn_gtsdb.pth\n"
          ]
        }
      ]
    },
    {
      "cell_type": "code",
      "source": [
        "# Λειτουργία αξιολόγησης (inference mode)\n",
        "model.eval()\n",
        "\n",
        "# Αποθήκευση των αποτελεσμάτων\n",
        "all_preds = []\n",
        "all_targets = []\n",
        "print(all_targets[:5])\n",
        "print(all_preds[:5])\n",
        "\n",
        "with torch.no_grad():\n",
        "    for images, targets in tqdm(test_loader, desc=\"Evaluating\"):\n",
        "        # Μεταφορά των δεδομένων στη συσκευή (GPU/CPU)\n",
        "        images = [image.to(device) for image in images]\n",
        "        targets = [{k: v.to(device) for k, v in t.items()} for t in targets]\n",
        "\n",
        "        # Προβλέψεις του μοντέλου\n",
        "        predictions = model(images)\n",
        "\n",
        "        # Αποθήκευση targets και predictions για αξιολόγηση\n",
        "        all_preds.extend(predictions)\n",
        "        all_targets.extend(targets)"
      ],
      "metadata": {
        "colab": {
          "base_uri": "https://localhost:8080/"
        },
        "id": "nGDMklF9Amtn",
        "outputId": "0ea61111-48f6-4066-cea9-7e5232eab0cd"
      },
      "execution_count": null,
      "outputs": [
        {
          "output_type": "stream",
          "name": "stderr",
          "text": [
            "Evaluating: 100%|██████████| 213/213 [01:17<00:00,  2.75it/s]\n"
          ]
        }
      ]
    },
    {
      "cell_type": "code",
      "source": [
        "# Υπολογισμός mAP\n",
        "def calculate_map(preds, targets, iou_threshold=0.3):\n",
        "    \"\"\"\n",
        "    Υπολογισμός του Mean Average Precision (mAP) για το test set.\n",
        "    \"\"\"\n",
        "    total_ap = []\n",
        "\n",
        "    for pred, target in zip(preds, targets):\n",
        "        if len(pred[\"boxes\"]) == 0 or len(target[\"boxes\"]) == 0:\n",
        "            continue\n",
        "\n",
        "        # Υπολογισμός IoU (Intersection over Union)\n",
        "        ious = box_iou(pred[\"boxes\"], target[\"boxes\"])\n",
        "\n",
        "        # Καταμέτρηση σωστών ανιχνεύσεων\n",
        "        matches = (ious > iou_threshold).sum().item()\n",
        "\n",
        "        # Υπολογισμός precision/recall (απλοποιημένο)\n",
        "        precision = matches / len(pred[\"boxes\"])\n",
        "        recall = matches / len(target[\"boxes\"])\n",
        "        ap = precision * recall\n",
        "        total_ap.append(ap)\n",
        "\n",
        "    return np.mean(total_ap)"
      ],
      "metadata": {
        "id": "NLRv6Ga3ApV-"
      },
      "execution_count": null,
      "outputs": []
    },
    {
      "cell_type": "code",
      "source": [
        "# Υπολογισμός mAP για το test set\n",
        "map_score = calculate_map(all_preds, all_targets)\n",
        "print(f\"Mean Average Precision (mAP): {map_score:.4f}\")"
      ],
      "metadata": {
        "colab": {
          "base_uri": "https://localhost:8080/"
        },
        "id": "9DCsM3-fAsXS",
        "outputId": "4eaf1e4f-6fe8-4688-c07a-cb8db71590b2"
      },
      "execution_count": null,
      "outputs": [
        {
          "output_type": "stream",
          "name": "stdout",
          "text": [
            "Mean Average Precision (mAP): nan\n"
          ]
        },
        {
          "output_type": "stream",
          "name": "stderr",
          "text": [
            "/usr/local/lib/python3.11/dist-packages/numpy/core/fromnumeric.py:3504: RuntimeWarning: Mean of empty slice.\n",
            "  return _methods._mean(a, axis=axis, dtype=dtype,\n",
            "/usr/local/lib/python3.11/dist-packages/numpy/core/_methods.py:129: RuntimeWarning: invalid value encountered in scalar divide\n",
            "  ret = ret.dtype.type(ret / rcount)\n"
          ]
        }
      ]
    }
  ]
}